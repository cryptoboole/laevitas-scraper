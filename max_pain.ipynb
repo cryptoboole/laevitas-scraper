{
 "metadata": {
  "language_info": {
   "codemirror_mode": {
    "name": "ipython",
    "version": 3
   },
   "file_extension": ".py",
   "mimetype": "text/x-python",
   "name": "python",
   "nbconvert_exporter": "python",
   "pygments_lexer": "ipython3",
   "version": "3.9.5"
  },
  "orig_nbformat": 2,
  "kernelspec": {
   "name": "python395jvsc74a57bd06aa382cd61eaf21e19af0a95238335401926070357565ce7ea25e1563e8962c3",
   "display_name": "Python 3.9.5 64-bit ('crypto': virtualenvwrapper)"
  }
 },
 "nbformat": 4,
 "nbformat_minor": 2,
 "cells": [
  {
   "cell_type": "code",
   "execution_count": 31,
   "metadata": {},
   "outputs": [],
   "source": [
    "import json\n",
    "import pandas as pd\n",
    "import http.client"
   ]
  },
  {
   "cell_type": "code",
   "execution_count": 32,
   "metadata": {},
   "outputs": [],
   "source": [
    "INSTRUMENT = 'eth'"
   ]
  },
  {
   "cell_type": "code",
   "execution_count": 33,
   "metadata": {
    "tags": []
   },
   "outputs": [],
   "source": [
    "conn = http.client.HTTPSConnection(\"api.laevitas.ch\")\n",
    "payload = \"{\\\"query\\\":\\\"query {\\\\n  getMaxPain: getMaxPain(currency: \\\\\\\"$INSTRUMENT\\\\\\\", market: \\\\\\\"deribit\\\\\\\")\\\\n}\\\"}\".replace('$INSTRUMENT', INSTRUMENT)\n",
    "headers = { 'Content-Type': \"application/json\" }\n",
    "conn.request(\"POST\", \"/graphql\", payload, headers)\n",
    "res = conn.getresponse()\n",
    "data = res.read()\n"
   ]
  },
  {
   "cell_type": "code",
   "execution_count": 36,
   "metadata": {},
   "outputs": [
    {
     "output_type": "stream",
     "name": "stdout",
     "text": [
      "SCRAPED 2208\n"
     ]
    }
   ],
   "source": [
    "maxPain_obj = json.loads(data.decode(\"utf-8\"))['data']['getMaxPain']\n",
    "maxPain_df = pd.DataFrame(maxPain_obj)\n",
    "print('SCRAPED', len(maxPain_df))"
   ]
  },
  {
   "cell_type": "code",
   "execution_count": 38,
   "metadata": {},
   "outputs": [
    {
     "output_type": "execute_result",
     "data": {
      "text/plain": [
       "            date maturity  max_pain  index_price\n",
       "0  1600981200000  25SEP20       340       345.65\n",
       "1  1601028000000  30OCT20       380       339.93\n",
       "2  1601074800000  30OCT20       380       352.30\n",
       "3  1601125200000  30OCT20       380       349.43\n",
       "4  1601172000000  30OCT20       380       360.02"
      ],
      "text/html": "<div>\n<style scoped>\n    .dataframe tbody tr th:only-of-type {\n        vertical-align: middle;\n    }\n\n    .dataframe tbody tr th {\n        vertical-align: top;\n    }\n\n    .dataframe thead th {\n        text-align: right;\n    }\n</style>\n<table border=\"1\" class=\"dataframe\">\n  <thead>\n    <tr style=\"text-align: right;\">\n      <th></th>\n      <th>date</th>\n      <th>maturity</th>\n      <th>max_pain</th>\n      <th>index_price</th>\n    </tr>\n  </thead>\n  <tbody>\n    <tr>\n      <th>0</th>\n      <td>1600981200000</td>\n      <td>25SEP20</td>\n      <td>340</td>\n      <td>345.65</td>\n    </tr>\n    <tr>\n      <th>1</th>\n      <td>1601028000000</td>\n      <td>30OCT20</td>\n      <td>380</td>\n      <td>339.93</td>\n    </tr>\n    <tr>\n      <th>2</th>\n      <td>1601074800000</td>\n      <td>30OCT20</td>\n      <td>380</td>\n      <td>352.30</td>\n    </tr>\n    <tr>\n      <th>3</th>\n      <td>1601125200000</td>\n      <td>30OCT20</td>\n      <td>380</td>\n      <td>349.43</td>\n    </tr>\n    <tr>\n      <th>4</th>\n      <td>1601172000000</td>\n      <td>30OCT20</td>\n      <td>380</td>\n      <td>360.02</td>\n    </tr>\n  </tbody>\n</table>\n</div>"
     },
     "metadata": {},
     "execution_count": 38
    }
   ],
   "source": [
    "maxPain_df.head(5)"
   ]
  },
  {
   "cell_type": "code",
   "execution_count": 39,
   "metadata": {},
   "outputs": [],
   "source": [
    "maxPain_df.to_csv(f'tests/max_pain_{INSTRUMENT}.csv', index=False)"
   ]
  }
 ]
}